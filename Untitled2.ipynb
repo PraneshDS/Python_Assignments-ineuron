{
  "nbformat": 4,
  "nbformat_minor": 0,
  "metadata": {
    "colab": {
      "name": "Untitled2.ipynb",
      "provenance": [],
      "collapsed_sections": []
    },
    "kernelspec": {
      "name": "python3",
      "display_name": "Python 3"
    },
    "language_info": {
      "name": "python"
    }
  },
  "cells": [
    {
      "cell_type": "code",
      "execution_count": 6,
      "metadata": {
        "colab": {
          "base_uri": "https://localhost:8080/"
        },
        "id": "91EUctY5Z2n7",
        "outputId": "c2df17e6-3c56-4b74-90c1-63f6a927284e"
      },
      "outputs": [
        {
          "output_type": "stream",
          "name": "stdout",
          "text": [
            "Enter the Kilometers:123\n",
            "Miles =  76.42851\n"
          ]
        }
      ],
      "source": [
        "# 1. program to convert kilometers to miles\n",
        "x=int(input(\"Enter the Kilometers:\"))\n",
        "t=x*0.62137\n",
        "print(\"Miles = \",t)"
      ]
    },
    {
      "cell_type": "code",
      "source": [
        "# 2. program to convert celcius to farenheit  \n",
        "c=float(input(\"Enter the celcius:\"))\n",
        "fh=c*1.8 + 32\n",
        "print(\"The farenheit is\",fh)"
      ],
      "metadata": {
        "colab": {
          "base_uri": "https://localhost:8080/"
        },
        "id": "sgCAZekIbTKG",
        "outputId": "7079f50b-b1f7-4b37-fb2c-3bf7e1caff48"
      },
      "execution_count": 12,
      "outputs": [
        {
          "output_type": "stream",
          "name": "stdout",
          "text": [
            "Enter the celcius:37\n",
            "The farenheit is 98.60000000000001\n"
          ]
        }
      ]
    },
    {
      "cell_type": "code",
      "source": [
        "# 3. program to display calendar\n",
        "import calendar \n",
        "month=int(input( \"Enter the month:\"))\n",
        "year =int(input(\"Enter the year:\"))\n",
        "print(calendar.month(year , month))"
      ],
      "metadata": {
        "colab": {
          "base_uri": "https://localhost:8080/"
        },
        "id": "elTaGcjOdmJd",
        "outputId": "acece21a-c360-492f-b01c-f07a34334347"
      },
      "execution_count": 25,
      "outputs": [
        {
          "output_type": "stream",
          "name": "stdout",
          "text": [
            "Enter the month:11\n",
            "Enter the year:2021\n",
            "   November 2021\n",
            "Mo Tu We Th Fr Sa Su\n",
            " 1  2  3  4  5  6  7\n",
            " 8  9 10 11 12 13 14\n",
            "15 16 17 18 19 20 21\n",
            "22 23 24 25 26 27 28\n",
            "29 30\n",
            "\n"
          ]
        }
      ]
    },
    {
      "cell_type": "code",
      "source": [
        "# 4. program to solve quadratic equation \n",
        "import cmath\n",
        "a=int(input(\"Enter a:\"))\n",
        "b=int(input(\"Enter b:\"))\n",
        "c=int(input(\"Enter c:\"))\n",
        "d = (b**2) - (4*a*c)\n",
        "sol1 = (-b-cmath.sqrt(d))/(2*a)\n",
        "sol2 = (-b+cmath.sqrt(d))/(2*a)\n",
        "print(\"The quadratic equation solution of {0} and {1}\".format(sol1,sol2))\n"
      ],
      "metadata": {
        "colab": {
          "base_uri": "https://localhost:8080/"
        },
        "id": "yFQj4fHfe-Xd",
        "outputId": "44627b7a-b17a-4c7c-8b87-c3bcd853d438"
      },
      "execution_count": 21,
      "outputs": [
        {
          "output_type": "stream",
          "name": "stdout",
          "text": [
            "Enter a:1\n",
            "Enter b:5\n",
            "Enter c:6\n",
            "The quadratic equation solution of (-3+0j) and (-2+0j)\n"
          ]
        }
      ]
    },
    {
      "cell_type": "code",
      "source": [
        "# 5. program to swap two variables without  temp variable \n",
        "p=int(input(\"Enter the no1 :\"))\n",
        "y=int(input(\"Enter the no2 :\"))\n",
        "print(\"Before swapping: \")\n",
        "print(p,y)\n",
        "p = p + y\n",
        "y = p - y\n",
        "p = p - y\n",
        "print(\"After swapping: \")\n",
        "print(p,y)"
      ],
      "metadata": {
        "colab": {
          "base_uri": "https://localhost:8080/"
        },
        "id": "LGHUOtY0gDCF",
        "outputId": "65d8da5b-95c5-4069-c04b-7ef2c91ef39c"
      },
      "execution_count": 24,
      "outputs": [
        {
          "output_type": "stream",
          "name": "stdout",
          "text": [
            "Enter the no1 :1\n",
            "Enter the no2 :8\n",
            "Before swapping: \n",
            "1 8\n",
            "After swapping: \n",
            "8 1\n"
          ]
        }
      ]
    },
    {
      "cell_type": "code",
      "source": [
        ""
      ],
      "metadata": {
        "id": "aho6SM41jm6u"
      },
      "execution_count": null,
      "outputs": []
    }
  ]
}