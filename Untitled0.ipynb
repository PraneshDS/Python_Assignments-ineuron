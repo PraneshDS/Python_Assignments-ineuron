{
  "nbformat": 4,
  "nbformat_minor": 0,
  "metadata": {
    "colab": {
      "name": "Untitled0.ipynb",
      "provenance": [],
      "collapsed_sections": []
    },
    "kernelspec": {
      "name": "python3",
      "display_name": "Python 3"
    },
    "language_info": {
      "name": "python"
    }
  },
  "cells": [
    {
      "cell_type": "code",
      "execution_count": 1,
      "metadata": {
        "colab": {
          "base_uri": "https://localhost:8080/"
        },
        "id": "dm9Ww-79oUCd",
        "outputId": "728a2b3a-22ba-4a50-d2e8-71eedbd85a27"
      },
      "outputs": [
        {
          "output_type": "stream",
          "name": "stdout",
          "text": [
            "Hello Python\n"
          ]
        }
      ],
      "source": [
        "# 1.python program to print \"HEllo Python\"\n",
        "print(\"Hello Python\")"
      ]
    },
    {
      "cell_type": "code",
      "source": [
        "# 2.python program to perform arithmethic operations addition and division\n",
        "a=10\n",
        "b=2\n",
        "print(a+b)\n",
        "print(a/b)"
      ],
      "metadata": {
        "colab": {
          "base_uri": "https://localhost:8080/"
        },
        "id": "0FRxL8gmoYWx",
        "outputId": "eed69a23-8e09-42c7-ed02-f32f09ab9ef1"
      },
      "execution_count": 2,
      "outputs": [
        {
          "output_type": "stream",
          "name": "stdout",
          "text": [
            "12\n",
            "5.0\n"
          ]
        }
      ]
    },
    {
      "cell_type": "code",
      "source": [
        "# 3.python program to print area of a triangle \n",
        "b=int(input(\"Enter the breadth:\"))\n",
        "h=int(input(\"Enter the height:\"))\n",
        "c=1/2*b*h\n",
        "print(\"Area of the triangle is\")\n",
        "print(c)"
      ],
      "metadata": {
        "colab": {
          "base_uri": "https://localhost:8080/"
        },
        "id": "OQW5oYLbodwR",
        "outputId": "49051880-c330-4e54-9b80-d747a56eeb59"
      },
      "execution_count": 3,
      "outputs": [
        {
          "output_type": "stream",
          "name": "stdout",
          "text": [
            "Enter the breadth:5\n",
            "Enter the height:4\n",
            "Area of the triangle is\n",
            "10.0\n"
          ]
        }
      ]
    },
    {
      "cell_type": "code",
      "source": [
        "# 4.python program to swap two variables\n",
        "a=int(input(\"Enter value of a:\"))\n",
        "b=int(input(\"Enter value of b:\"))\n",
        "t=a\n",
        "a=b\n",
        "b=t\n",
        "print(a,b)"
      ],
      "metadata": {
        "colab": {
          "base_uri": "https://localhost:8080/"
        },
        "id": "d87dW9Lfogyg",
        "outputId": "49b66ee2-9883-41d0-c099-14b2d1bc1ac0"
      },
      "execution_count": 4,
      "outputs": [
        {
          "output_type": "stream",
          "name": "stdout",
          "text": [
            "Enter value of a:72\n",
            "Enter value of b:123\n",
            "123 72\n"
          ]
        }
      ]
    },
    {
      "cell_type": "code",
      "source": [
        "# 5.python program to generate random number\n",
        "import random\n",
        "print(random.randint(0,100))"
      ],
      "metadata": {
        "colab": {
          "base_uri": "https://localhost:8080/"
        },
        "id": "LP8peOU4on1h",
        "outputId": "eedc1b3d-1ff7-4371-c23e-ca58b273dd3a"
      },
      "execution_count": 5,
      "outputs": [
        {
          "output_type": "stream",
          "name": "stdout",
          "text": [
            "11\n"
          ]
        }
      ]
    },
    {
      "cell_type": "code",
      "source": [
        ""
      ],
      "metadata": {
        "id": "tDeipj--osmR"
      },
      "execution_count": null,
      "outputs": []
    }
  ]
}